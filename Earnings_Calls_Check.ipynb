{
 "cells": [
  {
   "cell_type": "code",
   "execution_count": 1,
   "metadata": {},
   "outputs": [
    {
     "data": {
      "text/plain": [
       "'c:\\\\Users\\\\oanuf\\\\Google Drive\\\\Programming\\\\GitHub\\\\Alpaca_trading'"
      ]
     },
     "execution_count": 1,
     "metadata": {},
     "output_type": "execute_result"
    }
   ],
   "source": [
    "%pwd #print the current working directory"
   ]
  },
  {
   "cell_type": "code",
   "execution_count": 2,
   "metadata": {},
   "outputs": [],
   "source": [
    "import pandas as pd\n",
    "import datetime as dt\n",
    "\n",
    "import plotly.express as px\n",
    "import plotly.graph_objects as go\n",
    "from plotly.subplots import make_subplots\n",
    "\n",
    "\n",
    "from IPython.core.interactiveshell import InteractiveShell\n",
    "InteractiveShell.ast_node_interactivity = \"all\""
   ]
  },
  {
   "cell_type": "code",
   "execution_count": 3,
   "metadata": {},
   "outputs": [],
   "source": [
    "# Importing Alpaca SDK\n",
    "from Alpaca_config import *\n",
    "\n",
    "import fmpsdk\n",
    "\n",
    "import alpaca_trade_api as tradeapi\n",
    "from alpaca_trade_api.rest import TimeFrame\n",
    "from alpaca_trade_api.rest import TimeFrameUnit\n",
    "from pytz import timezone\n",
    "\n",
    "alpaca = tradeapi.REST(API_KEY_PAPER, API_SECRET_PAPER, API_BASE_URL_PAPER, 'v2')"
   ]
  },
  {
   "cell_type": "markdown",
   "metadata": {},
   "source": [
    "### Earnings Calls Trading Check\n",
    "\n",
    "Earning calls are not legally mandated, so a company doesn’t actually have to have one. Public companies are required to release the details of their financial performance, but their earnings don’t have to be amongst the details released. \n",
    "\n",
    "Some publicly traded companies don’t even have earnings calls.\n",
    "\n",
    "Earning calls tend to take place on a quarterly basis. Oftentimes, a company will announce the date and time of its call several weeks out.\n",
    "\n",
    "How long are Earnings Calls: Expect the call to last between 45 and 60 minutes."
   ]
  },
  {
   "cell_type": "code",
   "execution_count": 4,
   "metadata": {},
   "outputs": [
    {
     "data": {
      "text/plain": [
       "RIC                       object\n",
       "Ticker                    object\n",
       "ISIN                      object\n",
       "Event_Type                object\n",
       "Event_date_GMT    datetime64[ns]\n",
       "dtype: object"
      ]
     },
     "execution_count": 4,
     "metadata": {},
     "output_type": "execute_result"
    },
    {
     "data": {
      "text/html": [
       "<div>\n",
       "<style scoped>\n",
       "    .dataframe tbody tr th:only-of-type {\n",
       "        vertical-align: middle;\n",
       "    }\n",
       "\n",
       "    .dataframe tbody tr th {\n",
       "        vertical-align: top;\n",
       "    }\n",
       "\n",
       "    .dataframe thead th {\n",
       "        text-align: right;\n",
       "    }\n",
       "</style>\n",
       "<table border=\"1\" class=\"dataframe\">\n",
       "  <thead>\n",
       "    <tr style=\"text-align: right;\">\n",
       "      <th></th>\n",
       "      <th>RIC</th>\n",
       "      <th>Ticker</th>\n",
       "      <th>ISIN</th>\n",
       "      <th>Event_Type</th>\n",
       "      <th>Event_date_GMT</th>\n",
       "    </tr>\n",
       "  </thead>\n",
       "  <tbody>\n",
       "    <tr>\n",
       "      <th>0</th>\n",
       "      <td>SNI.OQ^C18</td>\n",
       "      <td>NaN</td>\n",
       "      <td>US8110651010</td>\n",
       "      <td>EarningsReleases</td>\n",
       "      <td>2017-02-21 13:30:00</td>\n",
       "    </tr>\n",
       "    <tr>\n",
       "      <th>1</th>\n",
       "      <td>SNI.OQ^C18</td>\n",
       "      <td>NaN</td>\n",
       "      <td>US8110651010</td>\n",
       "      <td>EarningsCallsAndPresentations</td>\n",
       "      <td>2017-02-21 15:00:00</td>\n",
       "    </tr>\n",
       "    <tr>\n",
       "      <th>2</th>\n",
       "      <td>SNI.OQ^C18</td>\n",
       "      <td>NaN</td>\n",
       "      <td>US8110651010</td>\n",
       "      <td>EarningsReleases</td>\n",
       "      <td>2017-05-04 12:30:00</td>\n",
       "    </tr>\n",
       "    <tr>\n",
       "      <th>3</th>\n",
       "      <td>SNI.OQ^C18</td>\n",
       "      <td>NaN</td>\n",
       "      <td>US8110651010</td>\n",
       "      <td>EarningsCallsAndPresentations</td>\n",
       "      <td>2017-05-04 14:00:00</td>\n",
       "    </tr>\n",
       "    <tr>\n",
       "      <th>4</th>\n",
       "      <td>SNI.OQ^C18</td>\n",
       "      <td>NaN</td>\n",
       "      <td>US8110651010</td>\n",
       "      <td>EarningsReleases</td>\n",
       "      <td>2017-07-31 12:30:00</td>\n",
       "    </tr>\n",
       "    <tr>\n",
       "      <th>...</th>\n",
       "      <td>...</td>\n",
       "      <td>...</td>\n",
       "      <td>...</td>\n",
       "      <td>...</td>\n",
       "      <td>...</td>\n",
       "    </tr>\n",
       "    <tr>\n",
       "      <th>16886</th>\n",
       "      <td>FDX.N</td>\n",
       "      <td>FDX</td>\n",
       "      <td>US31428X1063</td>\n",
       "      <td>EarningsCallsAndPresentations</td>\n",
       "      <td>2021-06-24 21:00:00</td>\n",
       "    </tr>\n",
       "    <tr>\n",
       "      <th>16887</th>\n",
       "      <td>FDX.N</td>\n",
       "      <td>FDX</td>\n",
       "      <td>US31428X1063</td>\n",
       "      <td>EarningsReleases</td>\n",
       "      <td>2021-09-21 20:04:00</td>\n",
       "    </tr>\n",
       "    <tr>\n",
       "      <th>16888</th>\n",
       "      <td>FDX.N</td>\n",
       "      <td>FDX</td>\n",
       "      <td>US31428X1063</td>\n",
       "      <td>EarningsCallsAndPresentations</td>\n",
       "      <td>2021-09-21 21:30:00</td>\n",
       "    </tr>\n",
       "    <tr>\n",
       "      <th>16889</th>\n",
       "      <td>FDX.N</td>\n",
       "      <td>FDX</td>\n",
       "      <td>US31428X1063</td>\n",
       "      <td>EarningsReleases</td>\n",
       "      <td>2021-12-16 21:02:00</td>\n",
       "    </tr>\n",
       "    <tr>\n",
       "      <th>16890</th>\n",
       "      <td>FDX.N</td>\n",
       "      <td>FDX</td>\n",
       "      <td>US31428X1063</td>\n",
       "      <td>EarningsCallsAndPresentations</td>\n",
       "      <td>2021-12-16 22:30:00</td>\n",
       "    </tr>\n",
       "  </tbody>\n",
       "</table>\n",
       "<p>16891 rows × 5 columns</p>\n",
       "</div>"
      ],
      "text/plain": [
       "              RIC Ticker          ISIN                     Event_Type  \\\n",
       "0      SNI.OQ^C18    NaN  US8110651010               EarningsReleases   \n",
       "1      SNI.OQ^C18    NaN  US8110651010  EarningsCallsAndPresentations   \n",
       "2      SNI.OQ^C18    NaN  US8110651010               EarningsReleases   \n",
       "3      SNI.OQ^C18    NaN  US8110651010  EarningsCallsAndPresentations   \n",
       "4      SNI.OQ^C18    NaN  US8110651010               EarningsReleases   \n",
       "...           ...    ...           ...                            ...   \n",
       "16886       FDX.N    FDX  US31428X1063  EarningsCallsAndPresentations   \n",
       "16887       FDX.N    FDX  US31428X1063               EarningsReleases   \n",
       "16888       FDX.N    FDX  US31428X1063  EarningsCallsAndPresentations   \n",
       "16889       FDX.N    FDX  US31428X1063               EarningsReleases   \n",
       "16890       FDX.N    FDX  US31428X1063  EarningsCallsAndPresentations   \n",
       "\n",
       "           Event_date_GMT  \n",
       "0     2017-02-21 13:30:00  \n",
       "1     2017-02-21 15:00:00  \n",
       "2     2017-05-04 12:30:00  \n",
       "3     2017-05-04 14:00:00  \n",
       "4     2017-07-31 12:30:00  \n",
       "...                   ...  \n",
       "16886 2021-06-24 21:00:00  \n",
       "16887 2021-09-21 20:04:00  \n",
       "16888 2021-09-21 21:30:00  \n",
       "16889 2021-12-16 21:02:00  \n",
       "16890 2021-12-16 22:30:00  \n",
       "\n",
       "[16891 rows x 5 columns]"
      ]
     },
     "execution_count": 4,
     "metadata": {},
     "output_type": "execute_result"
    }
   ],
   "source": [
    "dateparse = lambda x: dt.datetime.strptime(x, '%Y-%m-%d %H:%M:%S')\n",
    "hist_earn_calls=pd.read_excel('D:\\\\Data\\\\Other_data\\\\all_5Y_earn_calls.xlsx',\n",
    "                                usecols=['RIC','Ticker', 'ISIN', 'Event_Type', 'Event_date_GMT'],\n",
    "                                parse_dates=['Event_date_GMT'], date_parser=dateparse)\n",
    "hist_earn_calls.dtypes\n",
    "hist_earn_calls"
   ]
  },
  {
   "cell_type": "code",
   "execution_count": null,
   "metadata": {},
   "outputs": [],
   "source": [
    "hist_earn_calls['Time_of_Day'] = "
   ]
  }
 ],
 "metadata": {
  "interpreter": {
   "hash": "2a430b9512b76f515c6b8e583ffdf184e6a83dc665bc85b55c114d9511feceb9"
  },
  "kernelspec": {
   "display_name": "Python 3.8.5 64-bit ('base': conda)",
   "language": "python",
   "name": "python3"
  },
  "language_info": {
   "codemirror_mode": {
    "name": "ipython",
    "version": 3
   },
   "file_extension": ".py",
   "mimetype": "text/x-python",
   "name": "python",
   "nbconvert_exporter": "python",
   "pygments_lexer": "ipython3",
   "version": "3.8.5"
  },
  "orig_nbformat": 4
 },
 "nbformat": 4,
 "nbformat_minor": 2
}
